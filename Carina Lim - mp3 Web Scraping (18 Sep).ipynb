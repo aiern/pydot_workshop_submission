{
 "cells": [
  {
   "cell_type": "markdown",
   "metadata": {},
   "source": [
    "### Come up with one API you want to explore for next discusion in clas. \n",
    "\n",
    "### Come up with an API KEY \n",
    "### Make an api call -- get input from users\n",
    "### get the response, parse it, print the response \n",
    "\n",
    "### share in next class"
   ]
  },
  {
   "cell_type": "code",
   "execution_count": 33,
   "metadata": {},
   "outputs": [
    {
     "name": "stdout",
     "output_type": "stream",
     "text": [
      "Enter a word:python\n"
     ]
    }
   ],
   "source": [
    "# https://api.pearson.com/v2/dictionaries/entries?headword=python/\n",
    "inp = input(\"Enter a word:\")\n",
    "url = f\"https://api.pearson.com/v2/dictionaries/entries?headword={inp}\"\n",
    "\n",
    "import requests\n",
    "\n",
    "headers = {'User-Agent':'Mozilla/5.0 (Windows NT 10.0; Win64; x64; rv:69.0) Gecko/20100101 Firefox/69.0'}\n",
    "\n",
    "resp = requests.get(url, headers=headers)\n",
    "data = resp.json()\n"
   ]
  },
  {
   "cell_type": "code",
   "execution_count": 37,
   "metadata": {},
   "outputs": [
    {
     "name": "stdout",
     "output_type": "stream",
     "text": [
      "cqAFyeadbx\n",
      "csTMcy6rzf\n",
      "ct59xR5QEb\n",
      "cqAFkTNmtf\n",
      "[{'audio': [{'lang': 'British English', 'type': 'pronunciation', 'url': '/v2/dictionaries/assets/ldoce/gb_pron/python0205.mp3'}], 'ipa': 'ˈpaɪθən'}, {'audio': [{'lang': 'American English', 'type': 'pronunciation', 'url': '/v2/dictionaries/assets/ldoce/us_pron/python.mp3'}], 'ipa': '-θɑːn, -θən', 'lang': 'American English'}]\n",
      "'British English'\n",
      "https://api.pearson.com/v2/dictionaries/assets/ldoce/gb_pron/python0205.mp3\n",
      "cqAFYZ2fKW\n",
      "[{'audio': [{'lang': 'British English', 'type': 'pronunciation', 'url': '/v2/dictionaries/assets/ldoce/gb_pron/p028-000008458.mp3'}], 'ipa': 'ˌmɒnti ˈpaɪθən'}, {'audio': [{'lang': 'American English', 'type': 'pronunciation', 'url': '/v2/dictionaries/assets/ldoce/us_pron/p028-000008458.mp3'}], 'ipa': 'ˌmɑːnti', 'lang': 'American English'}, {'audio': [{'lang': 'British English', 'type': 'pronunciation', 'url': '/v2/dictionaries/assets/ldoce/gb_pron/p028-000008458.mp3'}], 'ipa': 'ˈpaɪθɑːn, -θən'}]\n",
      "'British English'\n",
      "https://api.pearson.com/v2/dictionaries/assets/ldoce/gb_pron/p028-000008458.mp3\n"
     ]
    }
   ],
   "source": [
    "# get results list \n",
    "from pprint import pprint\n",
    "\n",
    "result_list = data[\"results\"] # list of dictionaries \n",
    "\n",
    "for item in result_list: \n",
    "    if 'pronunciations' in item:\n",
    "        print(item['id'])\n",
    "        \n",
    "        list_of_pronunciations = item['pronunciations']\n",
    "        first_item_proc_dct = list_of_pronunciations[0]\n",
    "        \n",
    "        if \"audio\" in first_item_proc_dct:\n",
    "            print(list_of_pronunciations)\n",
    "            \n",
    "            for item in list_of_pronunciations:\n",
    "                for audio in item['audio']:\n",
    "                    pprint(audio['lang'])\n",
    "                    audio_url = audio['url']\n",
    "                    full_url = \"https://api.pearson.com\" + audio_url\n",
    "                    print(full_url)\n",
    "                break\n",
    "                \n",
    "\n",
    "    "
   ]
  },
  {
   "cell_type": "code",
   "execution_count": 39,
   "metadata": {},
   "outputs": [],
   "source": [
    "# url = 'https://newsapi.org/v2/everything?q=bitcoin&from=2019-08-18&sortBy=publishedAt&apiKey=API_KEY'"
   ]
  },
  {
   "cell_type": "code",
   "execution_count": 40,
   "metadata": {},
   "outputs": [
    {
     "ename": "ModuleNotFoundError",
     "evalue": "No module named 'balautil'",
     "output_type": "error",
     "traceback": [
      "\u001b[1;31m---------------------------------------------------------------------------\u001b[0m",
      "\u001b[1;31mModuleNotFoundError\u001b[0m                       Traceback (most recent call last)",
      "\u001b[1;32m<ipython-input-40-6cd51aa291e9>\u001b[0m in \u001b[0;36m<module>\u001b[1;34m()\u001b[0m\n\u001b[1;32m----> 1\u001b[1;33m \u001b[1;32mfrom\u001b[0m \u001b[0mbalautil\u001b[0m \u001b[1;32mimport\u001b[0m \u001b[0mrequestutil\u001b[0m \u001b[1;32mas\u001b[0m \u001b[0mR\u001b[0m\u001b[1;33m\u001b[0m\u001b[0m\n\u001b[0m",
      "\u001b[1;31mModuleNotFoundError\u001b[0m: No module named 'balautil'"
     ]
    }
   ],
   "source": [
    "# Bala's package \n",
    "# from balautil import requestutil as R "
   ]
  },
  {
   "cell_type": "code",
   "execution_count": 41,
   "metadata": {},
   "outputs": [
    {
     "ename": "NameError",
     "evalue": "name 'R' is not defined",
     "output_type": "error",
     "traceback": [
      "\u001b[1;31m---------------------------------------------------------------------------\u001b[0m",
      "\u001b[1;31mNameError\u001b[0m                                 Traceback (most recent call last)",
      "\u001b[1;32m<ipython-input-41-dd46446df486>\u001b[0m in \u001b[0;36m<module>\u001b[1;34m()\u001b[0m\n\u001b[1;32m----> 1\u001b[1;33m \u001b[0mdata\u001b[0m \u001b[1;33m=\u001b[0m \u001b[0mR\u001b[0m\u001b[1;33m.\u001b[0m\u001b[0mGet\u001b[0m\u001b[1;33m(\u001b[0m\u001b[0murl\u001b[0m\u001b[1;33m)\u001b[0m\u001b[1;33m\u001b[0m\u001b[0m\n\u001b[0m\u001b[0;32m      2\u001b[0m \u001b[0mdata\u001b[0m\u001b[1;33m\u001b[0m\u001b[0m\n",
      "\u001b[1;31mNameError\u001b[0m: name 'R' is not defined"
     ]
    }
   ],
   "source": [
    "# data = R.Get(url)\n",
    "# data\n",
    "# R.Get??"
   ]
  },
  {
   "cell_type": "code",
   "execution_count": null,
   "metadata": {},
   "outputs": [],
   "source": []
  }
 ],
 "metadata": {
  "kernelspec": {
   "display_name": "Python 3",
   "language": "python",
   "name": "python3"
  },
  "language_info": {
   "codemirror_mode": {
    "name": "ipython",
    "version": 3
   },
   "file_extension": ".py",
   "mimetype": "text/x-python",
   "name": "python",
   "nbconvert_exporter": "python",
   "pygments_lexer": "ipython3",
   "version": "3.7.0"
  }
 },
 "nbformat": 4,
 "nbformat_minor": 2
}
