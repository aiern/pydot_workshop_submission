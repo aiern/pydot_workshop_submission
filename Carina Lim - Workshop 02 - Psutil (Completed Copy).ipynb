{
 "cells": [
  {
   "cell_type": "markdown",
   "metadata": {},
   "source": [
    "## Task \n",
    "### 1. Run some program every 30 seconds\n",
    "### 2. Collect some metrics cpu_usage, mem_usage of your machine\n",
    "### 3. Save into a csv file"
   ]
  },
  {
   "cell_type": "code",
   "execution_count": null,
   "metadata": {},
   "outputs": [],
   "source": [
    "import psutil\n",
    "import time\n",
    "from datetime import datetime\n",
    "import csv\n",
    "\n",
    "def collection_metrics():\n",
    "    cpu = psutil.cpu_percent()\n",
    "    mem = psutil.virtual_memory().percent\n",
    "    timestamp = str(datetime.now())\n",
    "    return (cpu, mem, timestamp)\n",
    "\n",
    "def save_metrics(row, mode):\n",
    "    with open(\"cpu_mem.csv\", mode=mode) as f:\n",
    "        csv_writer = csv.writer(f)\n",
    "        csv_writer.writerow(row)\n",
    "        \n",
    "def dosomething():\n",
    "    row = collection_metrics()\n",
    "    save_metrics(row, mode=\"a\")\n",
    "\n",
    "headerrow = (\"cpu\", 'mem', 'timestamp')\n",
    "save_metrics(headerrow, mode=\"w\")\n",
    "\n",
    "while True:    \n",
    "    dosomething()\n",
    "    time.sleep(5)    "
   ]
  },
  {
   "cell_type": "markdown",
   "metadata": {},
   "source": [
    "###### NOTE TO MYSELF : \n",
    "###### mem looks like a tuple because of parenthesis but it's actually a class because you can call mem.__getitme__(2)\n",
    "###### mem.percent\n",
    "###### psutil.virtual_memory().percent\n",
    "    \n",
    "###### schedule in python || github.com/dbader/schedule\n",
    "###### import schedule\n",
    "###### schedule.every(10).seconds.do(dosomething)"
   ]
  },
  {
   "cell_type": "code",
   "execution_count": 2,
   "metadata": {},
   "outputs": [],
   "source": [
    "import pandas as pd\n",
    "import matplotlib as plt"
   ]
  },
  {
   "cell_type": "code",
   "execution_count": 3,
   "metadata": {},
   "outputs": [
    {
     "data": {
      "text/html": [
       "<div>\n",
       "<style scoped>\n",
       "    .dataframe tbody tr th:only-of-type {\n",
       "        vertical-align: middle;\n",
       "    }\n",
       "\n",
       "    .dataframe tbody tr th {\n",
       "        vertical-align: top;\n",
       "    }\n",
       "\n",
       "    .dataframe thead th {\n",
       "        text-align: right;\n",
       "    }\n",
       "</style>\n",
       "<table border=\"1\" class=\"dataframe\">\n",
       "  <thead>\n",
       "    <tr style=\"text-align: right;\">\n",
       "      <th></th>\n",
       "      <th>cpu</th>\n",
       "      <th>mem</th>\n",
       "      <th>timestamp</th>\n",
       "    </tr>\n",
       "  </thead>\n",
       "  <tbody>\n",
       "    <tr>\n",
       "      <th>0</th>\n",
       "      <td>23.3</td>\n",
       "      <td>59.7</td>\n",
       "      <td>2019-09-18 19:44:11.153336</td>\n",
       "    </tr>\n",
       "    <tr>\n",
       "      <th>1</th>\n",
       "      <td>17.5</td>\n",
       "      <td>59.6</td>\n",
       "      <td>2019-09-18 19:44:16.166063</td>\n",
       "    </tr>\n",
       "    <tr>\n",
       "      <th>2</th>\n",
       "      <td>21.5</td>\n",
       "      <td>59.6</td>\n",
       "      <td>2019-09-18 19:44:21.178582</td>\n",
       "    </tr>\n",
       "    <tr>\n",
       "      <th>3</th>\n",
       "      <td>19.4</td>\n",
       "      <td>59.6</td>\n",
       "      <td>2019-09-18 19:44:26.193575</td>\n",
       "    </tr>\n",
       "    <tr>\n",
       "      <th>4</th>\n",
       "      <td>16.1</td>\n",
       "      <td>59.6</td>\n",
       "      <td>2019-09-18 19:44:31.209483</td>\n",
       "    </tr>\n",
       "  </tbody>\n",
       "</table>\n",
       "</div>"
      ],
      "text/plain": [
       "    cpu   mem                   timestamp\n",
       "0  23.3  59.7  2019-09-18 19:44:11.153336\n",
       "1  17.5  59.6  2019-09-18 19:44:16.166063\n",
       "2  21.5  59.6  2019-09-18 19:44:21.178582\n",
       "3  19.4  59.6  2019-09-18 19:44:26.193575\n",
       "4  16.1  59.6  2019-09-18 19:44:31.209483"
      ]
     },
     "execution_count": 3,
     "metadata": {},
     "output_type": "execute_result"
    }
   ],
   "source": [
    "df = pd.read_csv('./cpu_mem.csv')\n",
    "df.head()"
   ]
  },
  {
   "cell_type": "code",
   "execution_count": 4,
   "metadata": {},
   "outputs": [
    {
     "data": {
      "text/plain": [
       "<matplotlib.axes._subplots.AxesSubplot at 0x602b270>"
      ]
     },
     "execution_count": 4,
     "metadata": {},
     "output_type": "execute_result"
    },
    {
     "data": {
      "image/png": "[encoded data removed]",
      "text/plain": [
       "<Figure size 432x288 with 1 Axes>"
      ]
     },
     "metadata": {
      "needs_background": "light"
     },
     "output_type": "display_data"
    }
   ],
   "source": [
    "df.cpu.plot()"
   ]
  },
  {
   "cell_type": "code",
   "execution_count": 5,
   "metadata": {},
   "outputs": [
    {
     "data": {
      "text/plain": [
       "<matplotlib.axes._subplots.AxesSubplot at 0x800dff0>"
      ]
     },
     "execution_count": 5,
     "metadata": {},
     "output_type": "execute_result"
    },
    {
     "data": {
      "image/png": "[encoded data removed]",
      "text/plain": [
       "<Figure size 432x288 with 1 Axes>"
      ]
     },
     "metadata": {
      "needs_background": "light"
     },
     "output_type": "display_data"
    }
   ],
   "source": [
    "df.mem.plot()"
   ]
  },
  {
   "cell_type": "code",
   "execution_count": null,
   "metadata": {},
   "outputs": [],
   "source": []
  }
 ],
 "metadata": {
  "kernelspec": {
   "display_name": "Python 3",
   "language": "python",
   "name": "python3"
  },
  "language_info": {
   "codemirror_mode": {
    "name": "ipython",
    "version": 3
   },
   "file_extension": ".py",
   "mimetype": "text/x-python",
   "name": "python",
   "nbconvert_exporter": "python",
   "pygments_lexer": "ipython3",
   "version": "3.7.0"
  }
 },
 "nbformat": 4,
 "nbformat_minor": 2
}
